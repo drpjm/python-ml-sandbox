{
 "cells": [
  {
   "cell_type": "markdown",
   "metadata": {},
   "source": [
    "## Exercise 1\n",
    "\n",
    "Try to achieve 97% accuracy on the MNIST test set. *Hint: Experiment with KNeighborsClassifier*"
   ]
  },
  {
   "cell_type": "code",
   "execution_count": 1,
   "metadata": {},
   "outputs": [],
   "source": [
    "import numpy as np\n",
    "\n",
    "# Load and pre-process the data\n",
    "from sklearn.datasets import fetch_mldata\n",
    "mnist = fetch_mldata('MNIST original')\n",
    "X, y = mnist['data'], mnist['target']\n",
    "\n",
    "X_train, y_train = X[:60000], y[:60000]\n",
    "X_test, y_test = X[60000:], y[60000:]\n",
    "shuffle_idx = np.random.permutation(60000)\n",
    "X_train, y_train = X_train[shuffle_idx], y_train[shuffle_idx]\n",
    "\n",
    "# With data in hand, time to structure the classifier and perform some grid searching."
   ]
  },
  {
   "cell_type": "markdown",
   "metadata": {},
   "source": [
    "### KNeighbors Classifier\n",
    "\n",
    "Documentation for the [here](http://scikit-learn.org/stable/modules/neighbors.html#classification) and [here](http://scikit-learn.org/stable/modules/generated/sklearn.neighbors.KNeighborsClassifier.html).\n",
    "\n",
    "It is an *instance based* classifier that does not build an internal model. Instead it stores instances of the training data. Implements a k-nearest neighbors vote process: classification is computed from the majority vote of the nearest neighbors.\n",
    "\n",
    "Hyperparameters\n",
    "1. n_neighbors\n",
    "2. weights - can be uniform or based on a distance metric. You can also send in a custom function\n",
    "3. algorithm - used to compute the nearest neighbors: ball_tree, kd_tree, brute, or auto.\n",
    "4. leaf_size - passed into ball_tree/kd_tree. Default=30. Affects the speed of the query and memory required\n",
    "5. p - power parameter for the Minkowski metric. 1 = manhattan, 2 = euclidean, etc\n",
    "6. n_jobs - parallelization param."
   ]
  },
  {
   "cell_type": "code",
   "execution_count": null,
   "metadata": {},
   "outputs": [
    {
     "name": "stdout",
     "output_type": "stream",
     "text": [
      "Predicted: [2.]\n",
      "Label: 2.0\n"
     ]
    }
   ],
   "source": [
    "# To start, let's build and train a sinlge classifier to see how it works with hyperparameter defaults.\n",
    "from sklearn.neighbors import KNeighborsClassifier\n",
    "from random import randint\n",
    "\n",
    "knn_default_clf = KNeighborsClassifier()\n",
    "knn_default_clf.fit(X_train, y_train)\n",
    "\n",
    "rand_idx = randint(0, len(X_train))\n",
    "print(\"Predicted: \" + str(knn_default_clf.predict([X_train[rand_idx]])))\n",
    "print(\"Label: \" + str(y_train[rand_idx]))\n"
   ]
  },
  {
   "cell_type": "code",
   "execution_count": null,
   "metadata": {},
   "outputs": [],
   "source": []
  }
 ],
 "metadata": {
  "kernelspec": {
   "display_name": "Python 3",
   "language": "python",
   "name": "python3"
  },
  "language_info": {
   "codemirror_mode": {
    "name": "ipython",
    "version": 3
   },
   "file_extension": ".py",
   "mimetype": "text/x-python",
   "name": "python",
   "nbconvert_exporter": "python",
   "pygments_lexer": "ipython3",
   "version": "3.6.4"
  }
 },
 "nbformat": 4,
 "nbformat_minor": 2
}
