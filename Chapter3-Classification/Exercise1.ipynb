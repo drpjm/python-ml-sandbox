{
 "cells": [
  {
   "cell_type": "markdown",
   "metadata": {},
   "source": [
    "## Exercise 1\n",
    "\n",
    "Try to achieve 97% accuracy on the MNIST test set. *Hint: Experiment with KNeighborsClassifier*"
   ]
  },
  {
   "cell_type": "code",
   "execution_count": 1,
   "metadata": {},
   "outputs": [],
   "source": [
    "import numpy as np\n",
    "\n",
    "# Load and pre-process the data\n",
    "from sklearn.datasets import fetch_mldata\n",
    "mnist = fetch_mldata('MNIST original')\n",
    "X, y = mnist['data'], mnist['target']\n",
    "\n",
    "X_train, y_train = X[:60000], y[:60000]\n",
    "X_test, y_test = X[60000:], y[60000:]\n",
    "shuffle_idx = np.random.permutation(60000)\n",
    "X_train, y_train = X_train[shuffle_idx], y_train[shuffle_idx]\n",
    "\n",
    "# With data in hand, time to structure the classifier and perform some grid searching."
   ]
  },
  {
   "cell_type": "markdown",
   "metadata": {},
   "source": [
    "### KNeighbors Classifier\n",
    "\n",
    "Documentation for the [here](http://scikit-learn.org/stable/modules/neighbors.html#classification) and [here](http://scikit-learn.org/stable/modules/generated/sklearn.neighbors.KNeighborsClassifier.html).\n",
    "\n",
    "It is an *instance based* classifier that does not build an internal model. Instead it stores instances of the training data. Implements a k-nearest neighbors vote process: classification is computed from the majority vote of the nearest neighbors.\n",
    "\n",
    "Hyperparameters\n",
    "1. n_neighbors\n",
    "2. weights - can be uniform or based on a distance metric. You can also send in a custom function\n",
    "3. algorithm - used to compute the nearest neighbors: ball_tree, kd_tree, brute, or auto.\n",
    "4. leaf_size - passed into ball_tree/kd_tree. Default=30. Affects the speed of the query and memory required\n",
    "5. p - power parameter for the Minkowski metric. 1 = manhattan, 2 = euclidean, etc\n",
    "6. n_jobs - parallelization param."
   ]
  },
  {
   "cell_type": "code",
   "execution_count": 2,
   "metadata": {},
   "outputs": [
    {
     "name": "stdout",
     "output_type": "stream",
     "text": [
      "Predicted: [8.]\n",
      "Label: 8.0\n"
     ]
    }
   ],
   "source": [
    "# To start, let's build and train a sinlge classifier to see how it works with hyperparameter defaults.\n",
    "from sklearn.neighbors import KNeighborsClassifier\n",
    "from random import randint\n",
    "\n",
    "knn_default_clf = KNeighborsClassifier()\n",
    "knn_default_clf.fit(X_train, y_train)\n",
    "\n",
    "rand_idx = randint(0, len(X_train))\n",
    "print(\"Predicted: \" + str(knn_default_clf.predict([X_train[rand_idx]])))\n",
    "print(\"Label: \" + str(y_train[rand_idx]))"
   ]
  },
  {
   "cell_type": "code",
   "execution_count": 3,
   "metadata": {},
   "outputs": [
    {
     "name": "stdout",
     "output_type": "stream",
     "text": [
      "Fitting 3 folds for each of 3 candidates, totalling 9 fits\n",
      "[CV] n_neighbors=3, weights=distance .................................\n",
      "[CV] n_neighbors=3, weights=distance .................................\n",
      "[CV] n_neighbors=3, weights=distance .................................\n",
      "[CV]  n_neighbors=3, weights=distance, score=0.9575648523016944, total= 1.8min\n",
      "[CV] n_neighbors=4, weights=distance .................................\n",
      "[CV]  n_neighbors=3, weights=distance, score=0.9558757316524088, total= 1.7min\n",
      "[CV] n_neighbors=4, weights=distance .................................\n"
     ]
    },
    {
     "name": "stderr",
     "output_type": "stream",
     "text": [
      "[Parallel(n_jobs=3)]: Done   2 tasks      | elapsed:  5.2min\n"
     ]
    },
    {
     "name": "stdout",
     "output_type": "stream",
     "text": [
      "[CV]  n_neighbors=3, weights=distance, score=0.9532093581283744, total= 1.8min\n",
      "[CV] n_neighbors=4, weights=distance .................................\n",
      "[CV]  n_neighbors=4, weights=distance, score=0.9581646423751687, total= 1.7min\n",
      "[CV] n_neighbors=5, weights=distance .................................\n",
      "[CV]  n_neighbors=4, weights=distance, score=0.9563587282543491, total= 1.7min\n",
      "[CV] n_neighbors=5, weights=distance .................................\n",
      "[CV]  n_neighbors=4, weights=distance, score=0.9575266396518085, total= 1.7min\n"
     ]
    },
    {
     "name": "stderr",
     "output_type": "stream",
     "text": [
      "[Parallel(n_jobs=3)]: Done   5 out of   9 | elapsed: 10.4min remaining:  8.3min\n",
      "[Parallel(n_jobs=3)]: Done   6 out of   9 | elapsed: 10.4min remaining:  5.2min\n"
     ]
    },
    {
     "name": "stdout",
     "output_type": "stream",
     "text": [
      "[CV] n_neighbors=5, weights=distance .................................\n",
      "[CV]  n_neighbors=5, weights=distance, score=0.9544159544159544, total= 1.8min\n"
     ]
    },
    {
     "name": "stderr",
     "output_type": "stream",
     "text": [
      "[Parallel(n_jobs=3)]: Done   7 out of   9 | elapsed: 15.7min remaining:  4.5min\n"
     ]
    },
    {
     "name": "stdout",
     "output_type": "stream",
     "text": [
      "[CV]  n_neighbors=5, weights=distance, score=0.9539592081583683, total= 1.8min\n",
      "[CV]  n_neighbors=5, weights=distance, score=0.9552754014708089, total= 1.8min\n"
     ]
    },
    {
     "name": "stderr",
     "output_type": "stream",
     "text": [
      "[Parallel(n_jobs=3)]: Done   9 out of   9 | elapsed: 15.7min remaining:    0.0s\n",
      "[Parallel(n_jobs=3)]: Done   9 out of   9 | elapsed: 15.7min finished\n"
     ]
    },
    {
     "name": "stdout",
     "output_type": "stream",
     "text": [
      "Grid search complete. Best estimator:\n",
      " KNeighborsClassifier(algorithm='auto', leaf_size=30, metric='minkowski',\n",
      "           metric_params=None, n_jobs=1, n_neighbors=4, p=2,\n",
      "           weights='distance')\n"
     ]
    }
   ],
   "source": [
    "# Ok, not bad. Perform a grid search, but limit the size of training data as it takes too long\n",
    "# on my machine with all 60000 data points\n",
    "from sklearn.model_selection import GridSearchCV\n",
    "\n",
    "X_train_small = X_train[:20000]\n",
    "y_train_small = y_train[:20000]\n",
    "\n",
    "knn_clf = KNeighborsClassifier()\n",
    "param_grid = [\n",
    "    # From early testing, I used {'n_neighbors': [3,4,5,6,7], 'weights': ['uniform', 'distance']} but\n",
    "    # for posterity, I limited it to the following:\n",
    "    {'n_neighbors': [3,4,5], 'weights': ['distance']}\n",
    "]\n",
    "\n",
    "# Make it verbose to get periodic updates from the grid search process and parallelize into 3 jobs.\n",
    "grid_search = GridSearchCV(knn_clf, param_grid, cv=3, scoring='accuracy', verbose=10, n_jobs=3)\n",
    "grid_search.fit(X_train_small, y_train_small)\n",
    "\n",
    "knn_best_clf = grid_search.best_estimator_\n",
    "print(\"Grid search complete. Best estimator:\\n \" + str(knn_best_clf))"
   ]
  },
  {
   "cell_type": "code",
   "execution_count": 4,
   "metadata": {},
   "outputs": [],
   "source": [
    "# From GridSearch, the best estimator uses 4 neighbors and the euclidean distance metric (L2)\n",
    "# Check against the test data.\n",
    "y_pred = knn_best_clf.predict(X_test)"
   ]
  },
  {
   "cell_type": "code",
   "execution_count": 8,
   "metadata": {},
   "outputs": [
    {
     "name": "stdout",
     "output_type": "stream",
     "text": [
      "0.9621\n"
     ]
    }
   ],
   "source": [
    "from sklearn.metrics import accuracy_score\n",
    "\n",
    "knn_best_acc = accuracy_score(y_test, y_pred)\n",
    "print(knn_best_acc)"
   ]
  },
  {
   "cell_type": "code",
   "execution_count": 6,
   "metadata": {},
   "outputs": [],
   "source": [
    "# Check accuracy of the default:\n",
    "y_pred_default = knn_default_clf.predict(X_test)"
   ]
  },
  {
   "cell_type": "code",
   "execution_count": 9,
   "metadata": {},
   "outputs": [
    {
     "name": "stdout",
     "output_type": "stream",
     "text": [
      "0.9688\n"
     ]
    }
   ],
   "source": [
    "knn_default_acc = accuracy_score(y_test, y_pred_default)\n",
    "print(knn_default_acc)"
   ]
  },
  {
   "cell_type": "markdown",
   "metadata": {},
   "source": [
    "From this experiment, I achieved a 96% accuracy - just shy of the exercise goal. More than likely this is due to training with only 1/3 of the data. This hunch is confirmed by the performance of the default KNN classifier (.9688 vs .9621."
   ]
  }
 ],
 "metadata": {
  "kernelspec": {
   "display_name": "Python 3",
   "language": "python",
   "name": "python3"
  },
  "language_info": {
   "codemirror_mode": {
    "name": "ipython",
    "version": 3
   },
   "file_extension": ".py",
   "mimetype": "text/x-python",
   "name": "python",
   "nbconvert_exporter": "python",
   "pygments_lexer": "ipython3",
   "version": "3.6.4"
  }
 },
 "nbformat": 4,
 "nbformat_minor": 2
}
