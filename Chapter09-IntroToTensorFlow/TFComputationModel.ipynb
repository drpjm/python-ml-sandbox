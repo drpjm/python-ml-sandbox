{
 "cells": [
  {
   "cell_type": "markdown",
   "metadata": {},
   "source": [
    "# Basic Concepts and API\n",
    "\n",
    "All TF code follows this process:\n",
    "1. Create a **computation graph** that defines your computational structure\n",
    "2. Create a TF session\n",
    "3. Run the computation graph in the session"
   ]
  },
  {
   "cell_type": "code",
   "execution_count": 175,
   "metadata": {},
   "outputs": [],
   "source": [
    "import tensorflow as tf"
   ]
  },
  {
   "cell_type": "code",
   "execution_count": 176,
   "metadata": {},
   "outputs": [
    {
     "name": "stdout",
     "output_type": "stream",
     "text": [
      "<class 'tensorflow.python.framework.ops.Tensor'>\n",
      "<class 'tensorflow.python.framework.ops.Tensor'>\n",
      "<class 'tensorflow.python.framework.ops.Tensor'>\n"
     ]
    }
   ],
   "source": [
    "# Define variables and operations in the graph\n",
    "\n",
    "x = tf.Variable(3, name=\"x\") # declare a symbolic name, x\n",
    "y = tf.Variable(4, name=\"y\")\n",
    "g = x*x*y\n",
    "h = y**3\n",
    "print(type(g))\n",
    "print(type(h))\n",
    "f = g + h\n",
    "print(type(f))"
   ]
  },
  {
   "cell_type": "markdown",
   "metadata": {},
   "source": [
    "The *type* of each computation is a TF **op**."
   ]
  },
  {
   "cell_type": "code",
   "execution_count": 177,
   "metadata": {},
   "outputs": [],
   "source": [
    "# Build a session and run. Using the \"with\" context block automatically closes the session.\n",
    "with tf.Session() as tf_sess:\n",
    "    x.initializer.run()\n",
    "    y.initializer.run()\n",
    "    result = f.eval()"
   ]
  },
  {
   "cell_type": "code",
   "execution_count": 178,
   "metadata": {},
   "outputs": [
    {
     "data": {
      "text/plain": [
       "100"
      ]
     },
     "execution_count": 178,
     "metadata": {},
     "output_type": "execute_result"
    }
   ],
   "source": [
    "result"
   ]
  },
  {
   "cell_type": "markdown",
   "metadata": {},
   "source": [
    "An alternative to initializing variables individually is to call the <code>global_variables_initializer</code> function."
   ]
  },
  {
   "cell_type": "code",
   "execution_count": 179,
   "metadata": {},
   "outputs": [
    {
     "name": "stdout",
     "output_type": "stream",
     "text": [
      "100\n"
     ]
    }
   ],
   "source": [
    "init = tf.global_variables_initializer() # Creates an init node\n",
    "\n",
    "with tf.Session() as tf_sess:\n",
    "    init.run()\n",
    "    result = f.eval()\n",
    "    print(result)"
   ]
  },
  {
   "cell_type": "markdown",
   "metadata": {},
   "source": [
    "## Graphs\n",
    "\n",
    "We can build graphs and then merge them together programmatically. Otherwise, it is assumed that declared computations are applied to the **same graph**."
   ]
  },
  {
   "cell_type": "code",
   "execution_count": 180,
   "metadata": {},
   "outputs": [
    {
     "data": {
      "text/plain": [
       "True"
      ]
     },
     "execution_count": 180,
     "metadata": {},
     "output_type": "execute_result"
    }
   ],
   "source": [
    "x1 = tf.Variable(1)\n",
    "# check where this x1 node lives:\n",
    "x1.graph is tf.get_default_graph()"
   ]
  },
  {
   "cell_type": "code",
   "execution_count": 181,
   "metadata": {},
   "outputs": [
    {
     "name": "stdout",
     "output_type": "stream",
     "text": [
      "False\n",
      "True\n"
     ]
    }
   ],
   "source": [
    "# Now, make another graph and add a new variable to it:\n",
    "new_graph = tf.Graph()\n",
    "with new_graph.as_default():\n",
    "    x2 = tf.Variable(2)\n",
    "    \n",
    "print(x2.graph is tf.get_default_graph())\n",
    "print(x2.graph is new_graph)"
   ]
  },
  {
   "cell_type": "markdown",
   "metadata": {},
   "source": [
    "## More on Nodes\n",
    "\n",
    "TF node evaluation determines the set of nodes that the node depends on and evaluates them. **All node values (except variables) are dropped between graph runs!**\n",
    "\n",
    "Varialbes start their life when initialized and end when the session closes."
   ]
  },
  {
   "cell_type": "code",
   "execution_count": 182,
   "metadata": {},
   "outputs": [
    {
     "name": "stdout",
     "output_type": "stream",
     "text": [
      "65\n",
      "3969\n"
     ]
    }
   ],
   "source": [
    "tf.reset_default_graph()\n",
    "\n",
    "w = tf.constant(9)\n",
    "x = w * 7\n",
    "y = x + 2\n",
    "z = x**2\n",
    "\n",
    "with tf.Session() as tf_sess:\n",
    "    print(y.eval())\n",
    "    print(z.eval())"
   ]
  },
  {
   "cell_type": "markdown",
   "metadata": {},
   "source": [
    "The above code is not efficient, as the computation of x and w will happen twice! Instead, have y and evaluate in a single graph run."
   ]
  },
  {
   "cell_type": "code",
   "execution_count": 183,
   "metadata": {},
   "outputs": [
    {
     "name": "stdout",
     "output_type": "stream",
     "text": [
      "65\n",
      "3969\n"
     ]
    }
   ],
   "source": [
    "with tf.Session() as tf_sess:\n",
    "    y_val, z_val = tf_sess.run([y,z])\n",
    "    print(y_val)\n",
    "    print(z_val)"
   ]
  },
  {
   "cell_type": "markdown",
   "metadata": {},
   "source": [
    "## Operations\n",
    "\n",
    "TF \"ops\" can take *any* number of inputs and produce *any* number of outputs. Sources are constants and Variables. The inputs and outputs of operations are always **tensors** - multi-dimensional arrays. In TF, tensors are numpy `ndarray`s.\n",
    "\n",
    "The following example performs linear regression using the closed form Normal Equation embedded as a TF op. \n",
    "This example code uses the California housing data set."
   ]
  },
  {
   "cell_type": "code",
   "execution_count": 184,
   "metadata": {},
   "outputs": [
    {
     "name": "stdout",
     "output_type": "stream",
     "text": [
      "Data shape: 20640 instances, 8 features\n",
      "Training size: 16512; Test size: 4128\n"
     ]
    }
   ],
   "source": [
    "import numpy as np\n",
    "from sklearn.datasets import fetch_california_housing\n",
    "from sklearn.preprocessing import StandardScaler\n",
    "from sklearn.model_selection import train_test_split\n",
    "\n",
    "housing_dataset = fetch_california_housing()\n",
    "m,n = housing_dataset.data.shape\n",
    "print(\"Data shape: \" + str(m) + \" instances, \" + str(n) + \" features\")\n",
    "\n",
    "X_raw = housing_dataset.data\n",
    "y_raw = housing_dataset.target\n",
    "\n",
    "# Split up the data\n",
    "X_train, X_test, y_train, y_test = train_test_split(X_raw, y_raw, test_size=0.2)\n",
    "print(\"Training size: \" + str(X_train.shape[0]) + \"; Test size: \" + str(X_test.shape[0]))\n",
    "\n",
    "# Scale the data sets\n",
    "housing_scaler = StandardScaler()\n",
    "X_train_scaled = housing_scaler.fit_transform(X_train)\n",
    "X_test_scaled = housing_scaler.transform(X_test)"
   ]
  },
  {
   "cell_type": "code",
   "execution_count": 185,
   "metadata": {},
   "outputs": [
    {
     "name": "stdout",
     "output_type": "stream",
     "text": [
      "Biased train data shape: 16512 instances, 9 features\n",
      "Biased test data shape: 4128 instances, 9 features\n"
     ]
    }
   ],
   "source": [
    "# Add a bias of 1 to model the linear regression.\n",
    "X_train_biased = np.c_[np.ones((X_train_scaled.shape[0],1)), X_train_scaled]\n",
    "X_test_biased = np.c_[np.ones((X_test_scaled.shape[0],1)), X_test_scaled]\n",
    "print(\"Biased train data shape: \" + str(X_train_biased.shape[0]) + \" instances, \" + str(X_train_biased.shape[1]) + \" features\")\n",
    "print(\"Biased test data shape: \" + str(X_test_biased.shape[0]) + \" instances, \" + str(X_test_biased.shape[1]) + \" features\")"
   ]
  },
  {
   "cell_type": "code",
   "execution_count": 186,
   "metadata": {},
   "outputs": [
    {
     "name": "stdout",
     "output_type": "stream",
     "text": [
      "Target array shape: (16512, 9)\n",
      "...as TF constant: (16512,)\n"
     ]
    }
   ],
   "source": [
    "X = tf.constant(X_train_biased, dtype=tf.float32, name=\"X\")\n",
    "print(\"Target array shape: \" + str(X_train_biased.shape))\n",
    "# Explicitly turn into an m x 1 vector\n",
    "y = tf.constant(y_train.reshape(-1,1), dtype=tf.float32, name=\"y\")\n",
    "print(\"...as TF constant: \" + str(y_train.shape))\n",
    "XT = tf.transpose(X)"
   ]
  },
  {
   "cell_type": "markdown",
   "metadata": {},
   "source": [
    "Implement the **Normal Equation**:\n",
    "$\\theta^{\\star} = (X\\cdot X^T)^{-1}\\cdot{X^T}\\cdot{y}$"
   ]
  },
  {
   "cell_type": "code",
   "execution_count": 187,
   "metadata": {},
   "outputs": [],
   "source": [
    "inv = tf.matrix_inverse( tf.matmul(XT, X) )\n",
    "theta = tf.matmul( tf.matmul(inv, XT), y )"
   ]
  },
  {
   "cell_type": "code",
   "execution_count": 188,
   "metadata": {},
   "outputs": [],
   "source": [
    "# Vroom vroom!\n",
    "with tf.Session() as tf_sess:\n",
    "    theta_val = theta.eval()"
   ]
  },
  {
   "cell_type": "code",
   "execution_count": 189,
   "metadata": {},
   "outputs": [
    {
     "name": "stdout",
     "output_type": "stream",
     "text": [
      "Performed a linear regression over the data set:\n",
      "[[ 2.0682957 ]\n",
      " [ 0.84008783]\n",
      " [ 0.1174375 ]\n",
      " [-0.28864682]\n",
      " [ 0.3346616 ]\n",
      " [-0.00617133]\n",
      " [-0.03975914]\n",
      " [-0.9041359 ]\n",
      " [-0.86882347]]\n",
      " (9, 1)\n"
     ]
    }
   ],
   "source": [
    "print(\"Performed a linear regression over the data set:\")\n",
    "print(str(theta_val) + \"\\n \" + str(theta_val.shape))"
   ]
  },
  {
   "cell_type": "markdown",
   "metadata": {},
   "source": [
    "## Manual Gradient Descent via TF\n",
    "\n",
    "I will re-use the scaled data from above and implement gradient descent manually rather than use the normal equation solution."
   ]
  },
  {
   "cell_type": "code",
   "execution_count": 190,
   "metadata": {},
   "outputs": [],
   "source": [
    "m = X_train_biased.shape[0]\n",
    "n = X_train_biased.shape[1]\n",
    "\n",
    "n_epochs = 2000\n",
    "alpha = 0.01 # learning rate"
   ]
  },
  {
   "cell_type": "code",
   "execution_count": 191,
   "metadata": {},
   "outputs": [],
   "source": [
    "# For grins, make a new graph for this implementation.\n",
    "gd_graph = tf.Graph()\n",
    "\n",
    "with gd_graph.as_default():\n",
    "    X = tf.constant(X_train_biased, dtype=tf.float32, name=\"X\")\n",
    "    y = tf.constant(y_train.reshape(-1,1), dtype=tf.float32, name=\"y\")\n",
    "    # Initialize theta variables with uniform random values\n",
    "    theta = tf.Variable( tf.random_uniform([n, 1], -1.0, 1.0), name=\"theta\" )\n",
    "    # Compute the predictions and error\n",
    "    y_pred = tf.matmul( X, theta, name=\"predictions\" )\n",
    "    error = y_pred - y\n",
    "    # Call on TF's mse function\n",
    "    mse = tf.reduce_mean( tf.square(error), name=\"mse\" )\n",
    "    # Gradient calculations\n",
    "    dJdtheta = (2.0/m) * tf.matmul( tf.transpose(X), error )\n",
    "    # Training/learning op. assign() computes a new value and assigns it to a TF variable\n",
    "    train_op = tf.assign( theta, theta - alpha*dJdtheta )\n",
    "    \n",
    "    init_op = tf.global_variables_initializer()"
   ]
  },
  {
   "cell_type": "code",
   "execution_count": 192,
   "metadata": {},
   "outputs": [
    {
     "name": "stdout",
     "output_type": "stream",
     "text": [
      "Epoch  0 MSE =  7.6506877\n",
      "Epoch  100 MSE =  0.9170531\n",
      "Epoch  200 MSE =  0.73852617\n",
      "Epoch  300 MSE =  0.6789211\n",
      "Epoch  400 MSE =  0.6374691\n",
      "Epoch  500 MSE =  0.60767645\n",
      "Epoch  600 MSE =  0.5862031\n",
      "Epoch  700 MSE =  0.57069904\n",
      "Epoch  800 MSE =  0.55948186\n",
      "Epoch  900 MSE =  0.5513509\n",
      "Epoch  1000 MSE =  0.5454397\n",
      "Epoch  1100 MSE =  0.5411326\n",
      "Epoch  1200 MSE =  0.53798336\n",
      "Epoch  1300 MSE =  0.53567326\n",
      "Epoch  1400 MSE =  0.5339736\n",
      "Epoch  1500 MSE =  0.53271604\n",
      "Epoch  1600 MSE =  0.5317826\n",
      "Epoch  1700 MSE =  0.531086\n",
      "Epoch  1800 MSE =  0.53056514\n",
      "Epoch  1900 MSE =  0.53017145\n",
      "[[ 2.068289  ]\n",
      " [ 0.85245454]\n",
      " [ 0.12877123]\n",
      " [-0.29521805]\n",
      " [ 0.3322528 ]\n",
      " [-0.00219188]\n",
      " [-0.04099313]\n",
      " [-0.8094103 ]\n",
      " [-0.77475417]]\n"
     ]
    }
   ],
   "source": [
    "with tf.Session( graph=gd_graph ) as sess:\n",
    "    sess.run(init_op)\n",
    "    \n",
    "    for i in range(n_epochs):\n",
    "        \n",
    "        if i % 100 == 0:\n",
    "            print(\"Epoch \", i, \"MSE = \", mse.eval())\n",
    "        sess.run(train_op)\n",
    "    \n",
    "    # At the end, print the current thetas\n",
    "    print(theta.eval())\n"
   ]
  },
  {
   "cell_type": "markdown",
   "metadata": {},
   "source": [
    "The results are pretty good compared to the normal equation. But it would be nice to not have to compute the derivative by hand all the time, especially for more difficult functions, e.g. regularized cost functions. Next, I will use *autodiff* to automatically compute the gradient."
   ]
  },
  {
   "cell_type": "code",
   "execution_count": 193,
   "metadata": {},
   "outputs": [
    {
     "name": "stdout",
     "output_type": "stream",
     "text": [
      "Tensor(\"dJdtheta/predictions_grad/MatMul_1:0\", shape=(9, 1), dtype=float32)\n"
     ]
    }
   ],
   "source": [
    "gd_graph2 = tf.Graph()\n",
    "with gd_graph2.as_default():\n",
    "    X = tf.constant(X_train_biased, dtype=tf.float32, name=\"X\")\n",
    "    y = tf.constant(y_train.reshape(-1,1), dtype=tf.float32, name=\"y\")\n",
    "    # Initialize theta variables with uniform random values\n",
    "    theta = tf.Variable( tf.random_uniform([n, 1], -1.0, 1.0), name=\"theta\" )\n",
    "    # Compute the predictions and error\n",
    "    y_pred = tf.matmul( X, theta, name=\"predictions\" )\n",
    "    error = y_pred - y\n",
    "    # Call on TF's mse function\n",
    "    mse = tf.reduce_mean( tf.square(error), name=\"mse\" )\n",
    "    # Using tf's autodiff capability compute the derivative of the MSE\n",
    "    dJdtheta = tf.gradients( mse, [theta], name=\"dJdtheta\" )[0]\n",
    "    print(dJdtheta)\n",
    "    \n",
    "    # Training/learning op. assign() computes a new value and assigns it to a TF variable\n",
    "    # This *is* the optimization process - simple gradient descent\n",
    "    train_op = tf.assign( theta, theta - alpha*dJdtheta )\n",
    "    \n",
    "    init_op = tf.global_variables_initializer()"
   ]
  },
  {
   "cell_type": "code",
   "execution_count": 194,
   "metadata": {},
   "outputs": [
    {
     "name": "stdout",
     "output_type": "stream",
     "text": [
      "Epoch  0 MSE =  7.619579\n",
      "Epoch  100 MSE =  0.9780748\n",
      "Epoch  200 MSE =  0.77403235\n",
      "Epoch  300 MSE =  0.70987123\n",
      "Epoch  400 MSE =  0.66503584\n",
      "Epoch  500 MSE =  0.63195205\n",
      "Epoch  600 MSE =  0.6073477\n",
      "Epoch  700 MSE =  0.5889569\n",
      "Epoch  800 MSE =  0.5751409\n",
      "Epoch  900 MSE =  0.5647041\n",
      "Epoch  1000 MSE =  0.55677783\n",
      "Epoch  1100 MSE =  0.5507234\n",
      "Epoch  1200 MSE =  0.5460721\n",
      "Epoch  1300 MSE =  0.5424777\n",
      "Epoch  1400 MSE =  0.5396848\n",
      "Epoch  1500 MSE =  0.5375022\n",
      "Epoch  1600 MSE =  0.53578717\n",
      "Epoch  1700 MSE =  0.53443295\n",
      "Epoch  1800 MSE =  0.5333583\n",
      "Epoch  1900 MSE =  0.532501\n",
      "[[ 2.0682893e+00]\n",
      " [ 8.8227671e-01]\n",
      " [ 1.3487199e-01]\n",
      " [-3.4767443e-01]\n",
      " [ 3.7444222e-01]\n",
      " [-2.9430713e-04]\n",
      " [-4.2214889e-02]\n",
      " [-7.3923689e-01]\n",
      " [-7.0793283e-01]]\n"
     ]
    }
   ],
   "source": [
    "with tf.Session( graph=gd_graph2 ) as sess:\n",
    "    sess.run(init_op)\n",
    "    \n",
    "    for i in range(n_epochs):\n",
    "        \n",
    "        if i % 100 == 0:\n",
    "            print(\"Epoch \", i, \"MSE = \", mse.eval())\n",
    "        sess.run(train_op)\n",
    "    \n",
    "    # At the end, print the current thetas\n",
    "    print(theta.eval())\n"
   ]
  },
  {
   "cell_type": "markdown",
   "metadata": {},
   "source": [
    "It is possible to roll all of the above into a simple call to a tf `Optimizer`!"
   ]
  },
  {
   "cell_type": "code",
   "execution_count": 207,
   "metadata": {},
   "outputs": [],
   "source": [
    "gdwithopt_graph = tf.Graph()\n",
    "# All the same intialization code, but then call on a MomentumOptimizer (or whatever other flavor)\n",
    "with gdwithopt_graph.as_default():\n",
    "    X = tf.constant(X_train_biased, dtype=tf.float32, name=\"X\")\n",
    "    y = tf.constant(y_train.reshape(-1,1), dtype=tf.float32, name=\"y\")\n",
    "    # Initialize theta variables with uniform random values\n",
    "    theta = tf.Variable( tf.random_uniform([n, 1], -1.0, 1.0), name=\"theta\" )\n",
    "    # Compute the predictions and error\n",
    "    y_pred = tf.matmul( X, theta, name=\"predictions\" )\n",
    "    error = y_pred - y\n",
    "    # Call on TF's mse function\n",
    "    mse = tf.reduce_mean( tf.square(error), name=\"mse\" )\n",
    "    \n",
    "    # The optimizer:\n",
    "#     optimizer = tf.train.GradientDescentOptimizer(learning_rate=alpha)\n",
    "    # Uncomment to use MomentumOptimizer\n",
    "    optimizer = tf.train.MomentumOptimizer(learning_rate=alpha, momentum=0.9)\n",
    "\n",
    "    training_op = optimizer.minimize(mse)\n",
    "    \n",
    "    init_op = tf.global_variables_initializer()\n",
    "    \n",
    "    # Added a saver node\n",
    "    saver = tf.train.Saver()"
   ]
  },
  {
   "cell_type": "code",
   "execution_count": 208,
   "metadata": {},
   "outputs": [
    {
     "name": "stdout",
     "output_type": "stream",
     "text": [
      "Epoch  0 MSE =  8.937419\n",
      "Epoch  100 MSE =  0.53223294\n",
      "Epoch  200 MSE =  0.5291265\n",
      "Epoch  300 MSE =  0.5288685\n",
      "Epoch  400 MSE =  0.52883744\n",
      "Epoch  500 MSE =  0.5288341\n",
      "Epoch  600 MSE =  0.5288338\n",
      "Epoch  700 MSE =  0.52883357\n",
      "Epoch  800 MSE =  0.5288333\n",
      "Epoch  900 MSE =  0.52883375\n",
      "Epoch  1000 MSE =  0.52883416\n",
      "Epoch  1100 MSE =  0.52883404\n",
      "Epoch  1200 MSE =  0.52883404\n",
      "Epoch  1300 MSE =  0.52883404\n",
      "Epoch  1400 MSE =  0.52883404\n",
      "Epoch  1500 MSE =  0.52883404\n",
      "Epoch  1600 MSE =  0.52883404\n",
      "Epoch  1700 MSE =  0.52883404\n",
      "Epoch  1800 MSE =  0.52883404\n",
      "Epoch  1900 MSE =  0.52883404\n",
      "[[ 2.0682945 ]\n",
      " [ 0.84008884]\n",
      " [ 0.11743774]\n",
      " [-0.28864896]\n",
      " [ 0.33466324]\n",
      " [-0.00617125]\n",
      " [-0.03975926]\n",
      " [-0.9041329 ]\n",
      " [-0.8688196 ]]\n"
     ]
    }
   ],
   "source": [
    "with tf.Session(graph=gdwithopt_graph) as sess:\n",
    "    sess.run(init_op)\n",
    "    \n",
    "    for i in range(n_epochs):\n",
    "        if i % 100 == 0:\n",
    "            print(\"Epoch \", i, \"MSE = \", mse.eval())\n",
    "        sess.run(training_op)\n",
    "    \n",
    "    # At the end, print the current thetas\n",
    "    print(theta.eval())\n",
    "    # Save out the model\n",
    "    save_path = saver.save(sess, \"./models/lin_reg_final.ckpt\")\n"
   ]
  },
  {
   "cell_type": "markdown",
   "metadata": {},
   "source": [
    "The above code still performed a batch learning process: the whole data set was consumed and the model was trained. Next step in thie evolution is to move to a **mini-batch** process. $X$ and $y$ get replaced with new values from the data set on each epoch iteration. In TF, we use `placeholder` nodes to accomplish this modification. (Note that `None` means any size.)\n",
    "\n",
    "To pass in a value to placeholder nodes, create a `feed_dict` and assign the value with the variable as a keyword."
   ]
  },
  {
   "cell_type": "code",
   "execution_count": 197,
   "metadata": {},
   "outputs": [],
   "source": [
    "import numpy as np\n",
    "from numpy.random import randn\n",
    "\n",
    "placeholder_ex_graph = tf.Graph()\n",
    "with placeholder_ex_graph.as_default():\n",
    "    A = tf.placeholder(tf.float32, shape=(None,4), name='A')\n",
    "    B = tf.placeholder(tf.int64, shape=(None,6), name='B')\n",
    "    C = A * 2 \n",
    "    D = B + 2\n",
    "\n",
    "with tf.Session(graph=placeholder_ex_graph) as sess:\n",
    "    C_result = C.eval( feed_dict={A: randn(1,4)} )\n",
    "    D_result = D.eval( feed_dict={B: [[8,9,1,2,7,3]]} )"
   ]
  },
  {
   "cell_type": "code",
   "execution_count": 198,
   "metadata": {},
   "outputs": [
    {
     "name": "stdout",
     "output_type": "stream",
     "text": [
      "[[-2.865427   -3.4994688   0.97427607 -0.68409264]]\n",
      "[[10 11  3  4  9  5]]\n"
     ]
    }
   ],
   "source": [
    "print(C_result)\n",
    "print(D_result)"
   ]
  },
  {
   "cell_type": "markdown",
   "metadata": {},
   "source": [
    "TensorFlow has a nice batching function, `tf.train.batch`. See the details [here](https://www.tensorflow.org/api_docs/python/tf/train/batch).\n",
    "\n",
    "A quick review of the input data shapes..."
   ]
  },
  {
   "cell_type": "code",
   "execution_count": 199,
   "metadata": {},
   "outputs": [
    {
     "name": "stdout",
     "output_type": "stream",
     "text": [
      "(16512, 9)\n",
      "Sample X:\n",
      "[ 1.         -0.7946698  -0.69067362 -0.19501342 -0.09686171  0.22136642\n",
      " -0.0748938   2.40728738 -1.67456641]\n",
      "(16512,)\n",
      "Sample y:\n",
      "0.912\n"
     ]
    }
   ],
   "source": [
    "print(X_train_biased.shape)\n",
    "print(\"Sample X:\\n{0}\".format(X_train_biased[0]))\n",
    "print(y_train.shape)\n",
    "print(\"Sample y:\\n{0}\".format(y_train[0]))\n"
   ]
  },
  {
   "cell_type": "code",
   "execution_count": 200,
   "metadata": {},
   "outputs": [
    {
     "name": "stdout",
     "output_type": "stream",
     "text": [
      "Number of batches = 65\n"
     ]
    }
   ],
   "source": [
    "batch_size = 256\n",
    "n_batches = int(np.ceil(X_train_biased.shape[0] / batch_size))\n",
    "print(\"Number of batches = {0}\".format(n_batches))"
   ]
  },
  {
   "cell_type": "code",
   "execution_count": 201,
   "metadata": {},
   "outputs": [],
   "source": [
    "from random import sample\n",
    "\n",
    "def next_batch_rand(Xs,ys,batch_size=64):\n",
    "    \"\"\"\n",
    "    This function randomly samples from the training set based on the size of the batch.\n",
    "    \"\"\"\n",
    "    data_len = Xs.shape[0]\n",
    "    idxs = sample( list(range(0,data_len)), batch_size )\n",
    "    return Xs[idxs,:], ys[idxs].reshape(-1,1)"
   ]
  },
  {
   "cell_type": "code",
   "execution_count": 202,
   "metadata": {},
   "outputs": [
    {
     "name": "stdout",
     "output_type": "stream",
     "text": [
      "(16, 9)\n",
      "(16, 1)\n"
     ]
    }
   ],
   "source": [
    "X_b, y_b = next_batch_rand(X_train_biased, y_train, 16)\n",
    "print(X_b.shape)\n",
    "print(y_b.shape)"
   ]
  },
  {
   "cell_type": "code",
   "execution_count": 203,
   "metadata": {},
   "outputs": [],
   "source": [
    "# Mini-batch Gradient Descent!\n",
    "gd_minibatch = tf.Graph()\n",
    "with gd_minibatch.as_default():\n",
    "    \n",
    "    # Now X and y are fed into the graph. n is the number of features (dimensions) in X\n",
    "    X = tf.placeholder( tf.float32, shape=(None, n), name='X' )\n",
    "    y = tf.placeholder( tf.float32, shape=(None, 1), name='y')\n",
    "\n",
    "    # Initialize theta variables with uniform random values\n",
    "    theta = tf.Variable( tf.random_uniform([n, 1], -1.0, 1.0), name=\"theta\" )\n",
    "    # Compute the predictions and error\n",
    "    y_pred = tf.matmul( X, theta, name=\"predictions\" )\n",
    "    error = y_pred - y\n",
    "    # Call on TF's mse function\n",
    "    mse = tf.reduce_mean( tf.square(error), name=\"mse\" )\n",
    "    \n",
    "    optimizer = tf.train.MomentumOptimizer(learning_rate=alpha, momentum=0.9)\n",
    "\n",
    "    training_op = optimizer.minimize(mse)\n",
    "    \n",
    "    init_op = tf.global_variables_initializer()"
   ]
  },
  {
   "cell_type": "markdown",
   "metadata": {},
   "source": [
    "I am not sure why I get an exception with the following code. I get an `InvalidArgumentError` because of the `y` being the wrong shape. But my batch function always returns a `(?,1)` sized array, based on the size of the batch.\n",
    "\n",
    "The exact error is:\n",
    "```\n",
    "You must feed a value for placeholder tensor 'y' with dtype float and shape [?,1]\n",
    "\t [[Node: y = Placeholder[dtype=DT_FLOAT, shape=[?,1], _device=\"/job:localhost/replica:0/task:0/device:CPU:0\"]()]]\n",
    "```\n",
    "I will skip this issue for now."
   ]
  },
  {
   "cell_type": "code",
   "execution_count": 204,
   "metadata": {},
   "outputs": [],
   "source": [
    "# with tf.Session(graph=gd_minibatch) as sess:\n",
    "#     sess.run(init_op)\n",
    "    \n",
    "#     for i in range(n_epochs):\n",
    "#         # Within each epoch, train over all mini batches in the training data\n",
    "#         for batch_idx in range(n_batches):\n",
    "#             X_batch, y_batch = next_batch_rand(X_train_biased, y_train, batch_size=128)\n",
    "#             sess.run(training_op, feed_dict={X:X_batch, y:y_batch})\n",
    "#         if i % 100 == 0:\n",
    "#             print(\"Epoch \", i, \"MSE = \", mse.eval())\n",
    "\n",
    "#     print(theta.eval())\n"
   ]
  },
  {
   "cell_type": "code",
   "execution_count": null,
   "metadata": {},
   "outputs": [],
   "source": []
  }
 ],
 "metadata": {
  "kernelspec": {
   "display_name": "Python 3",
   "language": "python",
   "name": "python3"
  },
  "language_info": {
   "codemirror_mode": {
    "name": "ipython",
    "version": 3
   },
   "file_extension": ".py",
   "mimetype": "text/x-python",
   "name": "python",
   "nbconvert_exporter": "python",
   "pygments_lexer": "ipython3",
   "version": "3.6.4"
  }
 },
 "nbformat": 4,
 "nbformat_minor": 2
}
