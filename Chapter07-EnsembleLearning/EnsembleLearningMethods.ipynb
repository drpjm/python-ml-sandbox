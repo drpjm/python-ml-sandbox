{
 "cells": [
  {
   "cell_type": "code",
   "execution_count": 13,
   "metadata": {},
   "outputs": [],
   "source": [
    "import numpy as np\n",
    "%matplotlib inline\n",
    "import matplotlib\n",
    "import matplotlib.pyplot as plt"
   ]
  },
  {
   "cell_type": "markdown",
   "metadata": {},
   "source": [
    "Ensemble learning methods pool a collection of *diverse* (trained via different algorithms) learners and computes the classification via hard or soft voting.\n",
    "For example, in hard voting, if two out of three classifiers agree, the resulting classification will be their agreed value.\n",
    "\n",
    "There are several ensemble methodologies:\n",
    "1. Bagging\n",
    "2. Boosting\n",
    "3. Stacking\n",
    "\n",
    "The following code implements a simple voting classifier constructed from three different learners."
   ]
  },
  {
   "cell_type": "code",
   "execution_count": 49,
   "metadata": {},
   "outputs": [],
   "source": [
    "# Let's use Iris data, but split it up.\n",
    "from sklearn.datasets import load_iris\n",
    "from sklearn.model_selection import train_test_split\n",
    "\n",
    "iris = load_iris()\n",
    "X_train, X_test, y_train, y_test = train_test_split(iris.data, iris.target)"
   ]
  },
  {
   "cell_type": "code",
   "execution_count": 50,
   "metadata": {},
   "outputs": [],
   "source": [
    "# Train three different classifiers on this set\n",
    "from sklearn.tree import DecisionTreeClassifier\n",
    "from sklearn.linear_model import LogisticRegression\n",
    "from sklearn.svm import SVC\n",
    "# Pull in the voting-based learner\n",
    "from sklearn.ensemble import VotingClassifier"
   ]
  },
  {
   "cell_type": "code",
   "execution_count": 51,
   "metadata": {},
   "outputs": [],
   "source": [
    "dt_clf = DecisionTreeClassifier(max_depth=3)\n",
    "log_clf = LogisticRegression()\n",
    "svc_clf = SVC()\n",
    "# Load into the Voting Classifier\n",
    "\n",
    "voting_clf = VotingClassifier(estimators=[('dt',dt_clf),('log',log_clf),('svc',svc_clf)],\n",
    "                             voting='hard')"
   ]
  },
  {
   "cell_type": "code",
   "execution_count": 52,
   "metadata": {},
   "outputs": [
    {
     "name": "stdout",
     "output_type": "stream",
     "text": [
      "DecisionTreeClassifier 0.9473684210526315\n",
      "LogisticRegression 0.8947368421052632\n",
      "SVC 0.9736842105263158\n",
      "VotingClassifier 0.9736842105263158\n"
     ]
    }
   ],
   "source": [
    "# Peeking at the performance...\n",
    "from sklearn.metrics import accuracy_score\n",
    "\n",
    "for clf in [dt_clf, log_clf, svc_clf, voting_clf]:\n",
    "    clf.fit(X_train, y_train)\n",
    "    y_pred = clf.predict(X_test)\n",
    "    print(clf.__class__.__name__, accuracy_score( y_test, y_pred ))"
   ]
  },
  {
   "cell_type": "markdown",
   "metadata": {},
   "source": [
    "The results above show that on this small data set the `VotingClassifier` overall achieves the same or better performance than `SVC`."
   ]
  },
  {
   "cell_type": "code",
   "execution_count": null,
   "metadata": {},
   "outputs": [],
   "source": []
  }
 ],
 "metadata": {
  "kernelspec": {
   "display_name": "Python 3",
   "language": "python",
   "name": "python3"
  },
  "language_info": {
   "codemirror_mode": {
    "name": "ipython",
    "version": 3
   },
   "file_extension": ".py",
   "mimetype": "text/x-python",
   "name": "python",
   "nbconvert_exporter": "python",
   "pygments_lexer": "ipython3",
   "version": "3.6.4"
  }
 },
 "nbformat": 4,
 "nbformat_minor": 2
}
