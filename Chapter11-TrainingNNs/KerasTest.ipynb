{
 "cells": [
  {
   "cell_type": "markdown",
   "metadata": {},
   "source": [
    "This notebook translates example code from *Hands-on Machine Learning* by A. Geron into the Keras deep learning library.\n",
    "This code uses the *sequential* Keras API."
   ]
  },
  {
   "cell_type": "code",
   "execution_count": 1,
   "metadata": {},
   "outputs": [
    {
     "name": "stderr",
     "output_type": "stream",
     "text": [
      "Using TensorFlow backend.\n"
     ]
    }
   ],
   "source": [
    "import keras\n",
    "from keras.models import Sequential\n",
    "from keras.layers import Dense, Activation\n",
    "from keras.optimizers import SGD\n",
    "from sklearn.preprocessing import StandardScaler\n",
    "import numpy as np"
   ]
  },
  {
   "cell_type": "markdown",
   "metadata": {},
   "source": [
    "Thankfully, `keras` packages the MNIST dataset for easy startup..."
   ]
  },
  {
   "cell_type": "code",
   "execution_count": 2,
   "metadata": {},
   "outputs": [
    {
     "name": "stdout",
     "output_type": "stream",
     "text": [
      "Data shapes:\n",
      " Training input = (60000, 28, 28)\n",
      " Testing input = (10000, 28, 28)\n"
     ]
    }
   ],
   "source": [
    "from keras.datasets import mnist\n",
    "(X_train, y_train), (X_test, y_test) = mnist.load_data()\n",
    "print(\"Data shapes:\\n Training input = {0}\\n Testing input = {1}\".format(X_train.shape, X_test.shape))"
   ]
  },
  {
   "cell_type": "markdown",
   "metadata": {},
   "source": [
    "Let's grab an image at random to see what is inside the data set."
   ]
  },
  {
   "cell_type": "code",
   "execution_count": 3,
   "metadata": {},
   "outputs": [
    {
     "name": "stdout",
     "output_type": "stream",
     "text": [
      "Training instance 5355\n"
     ]
    },
    {
     "data": {
      "text/plain": [
       "<Figure size 640x480 with 1 Axes>"
      ]
     },
     "metadata": {},
     "output_type": "display_data"
    }
   ],
   "source": [
    "import matplotlib\n",
    "import matplotlib.pyplot as plt\n",
    "from random import randint\n",
    "idx = randint(0,X_train.shape[0])\n",
    "print(\"Training instance {0}\".format(idx))\n",
    "plt.imshow(X_train[idx], cmap = matplotlib.cm.binary)\n",
    "plt.show()"
   ]
  },
  {
   "cell_type": "markdown",
   "metadata": {},
   "source": [
    "The Keras library is used in three larger phases: 1) model structure specification, 2) model optimization (fitting) process specification, and finally 3) model training.\n",
    "First up: **model structure specification**."
   ]
  },
  {
   "cell_type": "code",
   "execution_count": 4,
   "metadata": {},
   "outputs": [
    {
     "name": "stderr",
     "output_type": "stream",
     "text": [
      "/Users/pjmartin/Code/python-ml-sandbox/lib/python3.6/site-packages/sklearn/utils/validation.py:475: DataConversionWarning: Data with input dtype uint8 was converted to float64 by StandardScaler.\n",
      "  warnings.warn(msg, DataConversionWarning)\n"
     ]
    },
    {
     "name": "stdout",
     "output_type": "stream",
     "text": [
      "Feature data type = <class 'numpy.float64'>\n"
     ]
    }
   ],
   "source": [
    "# Normalizing the data for the neural network training process.\n",
    "# Each pixel is now a float64 data type\n",
    "scaler = StandardScaler()\n",
    "X_train = X_train.reshape(60000, 784)\n",
    "X_test = X_test.reshape(10000, 784)\n",
    "X_train_scale = scaler.fit_transform(X_train)\n",
    "X_test_scale = scaler.transform(X_test)\n",
    "print(\"Feature data type = {0}\".format(type(X_train_scale[0][0])))"
   ]
  },
  {
   "cell_type": "markdown",
   "metadata": {},
   "source": [
    "Also need to modify the labels to be one hot vectors. For example, the label 3 would result in a vector:\n",
    "```\n",
    "[0, 0, 0, 1, 0, 0, 0, 0, 0, 0, 0]\n",
    "```"
   ]
  },
  {
   "cell_type": "code",
   "execution_count": 5,
   "metadata": {},
   "outputs": [
    {
     "name": "stdout",
     "output_type": "stream",
     "text": [
      "Label as number: 5\n",
      "Label as one-hot vector: [0. 0. 0. 0. 0. 1. 0. 0. 0. 0.]\n"
     ]
    }
   ],
   "source": [
    "num_classes = len(np.unique(y_train))\n",
    "y_train_enc = keras.utils.to_categorical(y_train, num_classes)\n",
    "y_test_enc = keras.utils.to_categorical(y_test, num_classes)\n",
    "print(\"Label as number: {0}\".format(y_train[0]))\n",
    "print(\"Label as one-hot vector: {0}\".format(y_train_enc[0]))"
   ]
  },
  {
   "cell_type": "code",
   "execution_count": 6,
   "metadata": {},
   "outputs": [
    {
     "name": "stdout",
     "output_type": "stream",
     "text": [
      "WARNING:tensorflow:From /Users/pjmartin/Code/python-ml-sandbox/lib/python3.6/site-packages/tensorflow/python/framework/op_def_library.py:263: colocate_with (from tensorflow.python.framework.ops) is deprecated and will be removed in a future version.\n",
      "Instructions for updating:\n",
      "Colocations handled automatically by placer.\n",
      "_________________________________________________________________\n",
      "Layer (type)                 Output Shape              Param #   \n",
      "=================================================================\n",
      "dense_1 (Dense)              (None, 196)               153860    \n",
      "_________________________________________________________________\n",
      "dense_2 (Dense)              (None, 10)                1970      \n",
      "=================================================================\n",
      "Total params: 155,830\n",
      "Trainable params: 155,830\n",
      "Non-trainable params: 0\n",
      "_________________________________________________________________\n"
     ]
    }
   ],
   "source": [
    "# This model will be a simple multi-layer perceptron - single hidden layer\n",
    "model = Sequential()\n",
    "model.add(Dense(196, activation='relu', input_shape=(784,)))\n",
    "model.add(Dense(num_classes, activation='softmax'))\n",
    "model.summary()"
   ]
  },
  {
   "cell_type": "markdown",
   "metadata": {},
   "source": [
    "Keras next performs the **model optimization specification** phase that provides the loss function, its [optimizer](https://keras.io/optimizers/), and the desired [metric](https://keras.io/metrics/#available-metrics)."
   ]
  },
  {
   "cell_type": "code",
   "execution_count": 7,
   "metadata": {},
   "outputs": [],
   "source": [
    "model.compile(loss='categorical_crossentropy', optimizer=SGD(), metrics=['accuracy'])"
   ]
  },
  {
   "cell_type": "markdown",
   "metadata": {},
   "source": [
    "Now the model will be trained. The `batch_size` parameter carries how many data points are drawn from the training set per optimization step. The number of `epochs` specifies how many times the whole `X_train_scale` and `y_train_enc` data is used."
   ]
  },
  {
   "cell_type": "code",
   "execution_count": 8,
   "metadata": {},
   "outputs": [
    {
     "name": "stdout",
     "output_type": "stream",
     "text": [
      "WARNING:tensorflow:From /Users/pjmartin/Code/python-ml-sandbox/lib/python3.6/site-packages/tensorflow/python/ops/math_ops.py:3066: to_int32 (from tensorflow.python.ops.math_ops) is deprecated and will be removed in a future version.\n",
      "Instructions for updating:\n",
      "Use tf.cast instead.\n",
      "Train on 60000 samples, validate on 10000 samples\n",
      "Epoch 1/10\n",
      "60000/60000 [==============================] - 1s 18us/step - loss: 0.9658 - acc: 0.7282 - val_loss: 0.5203 - val_acc: 0.8645\n",
      "Epoch 2/10\n",
      "60000/60000 [==============================] - 1s 15us/step - loss: 0.4559 - acc: 0.8783 - val_loss: 0.3859 - val_acc: 0.8976\n",
      "Epoch 3/10\n",
      "60000/60000 [==============================] - 1s 15us/step - loss: 0.3638 - acc: 0.9001 - val_loss: 0.3314 - val_acc: 0.9104\n",
      "Epoch 4/10\n",
      "60000/60000 [==============================] - 1s 15us/step - loss: 0.3168 - acc: 0.9122 - val_loss: 0.2987 - val_acc: 0.9176\n",
      "Epoch 5/10\n",
      "60000/60000 [==============================] - 1s 15us/step - loss: 0.2863 - acc: 0.9204 - val_loss: 0.2770 - val_acc: 0.9224\n",
      "Epoch 6/10\n",
      "60000/60000 [==============================] - 1s 15us/step - loss: 0.2640 - acc: 0.9261 - val_loss: 0.2608 - val_acc: 0.9274\n",
      "Epoch 7/10\n",
      "60000/60000 [==============================] - 1s 15us/step - loss: 0.2466 - acc: 0.9306 - val_loss: 0.2477 - val_acc: 0.9309\n",
      "Epoch 8/10\n",
      "60000/60000 [==============================] - 1s 15us/step - loss: 0.2327 - acc: 0.9346 - val_loss: 0.2371 - val_acc: 0.9339\n",
      "Epoch 9/10\n",
      "60000/60000 [==============================] - 1s 15us/step - loss: 0.2211 - acc: 0.9376 - val_loss: 0.2279 - val_acc: 0.9358\n",
      "Epoch 10/10\n",
      "60000/60000 [==============================] - 1s 15us/step - loss: 0.2111 - acc: 0.9404 - val_loss: 0.2200 - val_acc: 0.9382\n"
     ]
    }
   ],
   "source": [
    "train_hist = model.fit(X_train_scale, y_train_enc, batch_size=256, epochs=10, \n",
    "                       verbose=1, validation_data=(X_test_scale, y_test_enc))"
   ]
  },
  {
   "cell_type": "code",
   "execution_count": 9,
   "metadata": {},
   "outputs": [],
   "source": [
    "score = model.evaluate(X_test_scale, y_test_enc, verbose=0)"
   ]
  },
  {
   "cell_type": "code",
   "execution_count": 10,
   "metadata": {},
   "outputs": [
    {
     "name": "stdout",
     "output_type": "stream",
     "text": [
      "Loss: 0.22000497583001852\n",
      "Accuracy: 0.9382\n"
     ]
    }
   ],
   "source": [
    "print(\"Loss: {0}\\nAccuracy: {1}\".format(score[0], score[1]))"
   ]
  },
  {
   "cell_type": "markdown",
   "metadata": {},
   "source": [
    "Not bad performance for a very simple NN architecture."
   ]
  }
 ],
 "metadata": {
  "kernelspec": {
   "display_name": "Python 3",
   "language": "python",
   "name": "python3"
  },
  "language_info": {
   "codemirror_mode": {
    "name": "ipython",
    "version": 3
   },
   "file_extension": ".py",
   "mimetype": "text/x-python",
   "name": "python",
   "nbconvert_exporter": "python",
   "pygments_lexer": "ipython3",
   "version": "3.6.4"
  }
 },
 "nbformat": 4,
 "nbformat_minor": 2
}
